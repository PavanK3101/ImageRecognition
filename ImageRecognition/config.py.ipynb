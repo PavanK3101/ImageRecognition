{
 "cells": [
  {
   "cell_type": "code",
   "execution_count": null,
   "id": "c6596d8f",
   "metadata": {},
   "outputs": [],
   "source": [
    "import os\n",
    "from pathlib import Path\n",
    "\n",
    "class Config:\n",
    "    \"\"\"Configuration settings for the Image Recognition System\"\"\"\n",
    "    \n",
    "    # Base directories\n",
    "    BASE_DIR = Path(__file__).parent\n",
    "    UPLOAD_FOLDER = BASE_DIR / 'static' / 'uploads'\n",
    "    MODEL_FOLDER = BASE_DIR / 'models'\n",
    "    STATIC_FOLDER = BASE_DIR / 'static'\n",
    "    TEMPLATE_FOLDER = BASE_DIR / 'templates'\n",
    "    \n",
    "    # Flask settings\n",
    "    SECRET_KEY = 'your-secret-key-here'\n",
    "    MAX_CONTENT_LENGTH = 16 * 1024 * 1024  # 16MB max file size\n",
    "    \n",
    "    # Image settings\n",
    "    ALLOWED_EXTENSIONS = {'png', 'jpg', 'jpeg', 'gif', 'bmp', 'webp'}\n",
    "    IMAGE_SIZE = (224, 224)  # Standard input size for most models\n",
    "    \n",
    "    # Model settings\n",
    "    MODEL_NAME = 'custom_image_classifier'\n",
    "    CONFIDENCE_THRESHOLD = 0.5\n",
    "    TOP_K_PREDICTIONS = 5\n",
    "    \n",
    "    # Training settings\n",
    "    BATCH_SIZE = 32\n",
    "    EPOCHS = 10\n",
    "    LEARNING_RATE = 0.001\n",
    "    VALIDATION_SPLIT = 0.2\n",
    "    \n",
    "    # Create directories if they don't exist\n",
    "    @classmethod\n",
    "    def create_directories(cls):\n",
    "        for folder in [cls.UPLOAD_FOLDER, cls.MODEL_FOLDER, cls.STATIC_FOLDER, cls.TEMPLATE_FOLDER]:\n",
    "            folder.mkdir(parents=True, exist_ok=True)"
   ]
  }
 ],
 "metadata": {
  "kernelspec": {
   "display_name": "Python 3 (ipykernel)",
   "language": "python",
   "name": "python3"
  },
  "language_info": {
   "codemirror_mode": {
    "name": "ipython",
    "version": 3
   },
   "file_extension": ".py",
   "mimetype": "text/x-python",
   "name": "python",
   "nbconvert_exporter": "python",
   "pygments_lexer": "ipython3",
   "version": "3.7.0"
  }
 },
 "nbformat": 4,
 "nbformat_minor": 5
}
